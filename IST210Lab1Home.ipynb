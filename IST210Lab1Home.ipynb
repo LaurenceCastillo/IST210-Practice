{
  "nbformat": 4,
  "nbformat_minor": 0,
  "metadata": {
    "colab": {
      "name": "IST210Lab1Home.ipynb",
      "provenance": [],
      "collapsed_sections": [],
      "authorship_tag": "ABX9TyMesiu9jKzUleqnVqwkRmPV",
      "include_colab_link": true
    },
    "kernelspec": {
      "name": "python3",
      "display_name": "Python 3"
    }
  },
  "cells": [
    {
      "cell_type": "markdown",
      "metadata": {
        "id": "view-in-github",
        "colab_type": "text"
      },
      "source": [
        "<a href=\"https://colab.research.google.com/github/jxkakyoin/IST210-Practice/blob/master/IST210Lab1Home.ipynb\" target=\"_parent\"><img src=\"https://colab.research.google.com/assets/colab-badge.svg\" alt=\"Open In Colab\"/></a>"
      ]
    },
    {
      "cell_type": "code",
      "metadata": {
        "id": "jmy09L5-ve0Z",
        "colab_type": "code",
        "colab": {}
      },
      "source": [
        ""
      ],
      "execution_count": null,
      "outputs": []
    },
    {
      "cell_type": "markdown",
      "metadata": {
        "id": "FouWU1MAvrzc",
        "colab_type": "text"
      },
      "source": [
        "###Do you like using Jupyter Notebooks?\n"
      ]
    },
    {
      "cell_type": "markdown",
      "metadata": {
        "id": "idwWijn3yBlz",
        "colab_type": "text"
      },
      "source": [
        "It's new to me, but it seems like a way to present both text and code in a way that's aesthetically appealing. I think I'll enjoy it more in the future when I get used to it."
      ]
    },
    {
      "cell_type": "markdown",
      "metadata": {
        "id": "20oYtP7iy5YY",
        "colab_type": "text"
      },
      "source": [
        "###What do you want to learn more about in Jupyter Notebooks?"
      ]
    },
    {
      "cell_type": "markdown",
      "metadata": {
        "id": "u45aiC9Hy_qD",
        "colab_type": "text"
      },
      "source": [
        "I'd like to know how to better organize my work. I'd also like to learn how to better navigate Jupyter Notebooks."
      ]
    },
    {
      "cell_type": "markdown",
      "metadata": {
        "id": "BTmWwm37z4iM",
        "colab_type": "text"
      },
      "source": [
        "![chart](https://raw.githubusercontent.com/jxkakyoin/IST210-Practice/master/Images/ist210lab1.png)"
      ]
    }
  ]
}