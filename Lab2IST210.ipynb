{
  "nbformat": 4,
  "nbformat_minor": 0,
  "metadata": {
    "colab": {
      "name": "Lab2IST210.ipynb",
      "provenance": [],
      "collapsed_sections": [],
      "authorship_tag": "ABX9TyOclTQ04jM/w93X72UnwQFt",
      "include_colab_link": true
    },
    "kernelspec": {
      "name": "python3",
      "display_name": "Python 3"
    }
  },
  "cells": [
    {
      "cell_type": "markdown",
      "metadata": {
        "id": "view-in-github",
        "colab_type": "text"
      },
      "source": [
        "<a href=\"https://colab.research.google.com/github/jxkakyoin/IST210-Practice/blob/master/Lab2IST210.ipynb\" target=\"_parent\"><img src=\"https://colab.research.google.com/assets/colab-badge.svg\" alt=\"Open In Colab\"/></a>"
      ]
    },
    {
      "cell_type": "code",
      "metadata": {
        "id": "-0S_76OdQiec"
      },
      "source": [
        ""
      ],
      "execution_count": null,
      "outputs": []
    },
    {
      "cell_type": "markdown",
      "metadata": {
        "id": "4ZSXxFTwQwj3"
      },
      "source": [
        "When reading the scenario provided, I identified the six entities as customer, enclosure, loyalty program, pet, transaction, and food. Based off of the description, I decided that all entities in the diagram would become connected to transaction, which would be connected to the customer. For customer to loyalty program, I chose optional 1 to 1 because customers can opt into the program. I also connected transaction to loyalty program because one would need to know a customer's purchase history to determine benefits.  I also connected the keys for enclosure, pet, and food to transaction because I had each of them as attributes for the transaction entity and these would be purchased during the transaction. Because food is also fed to pets, I also made a relationship between the food entity and the pet entity. I also established a relationship between pets and enclosures because the description states that the pets live inside them. For the relationship between transaction and pet, food, and enclosure, I placed an optional one to many relationship because a customer may not purchase an item that fall under one of those entities."
      ]
    },
    {
      "cell_type": "markdown",
      "metadata": {
        "id": "DdwTB81BVxj3"
      },
      "source": [
        "![chart](https://raw.githubusercontent.com/jxkakyoin/IST210-Practice/master/Lab2IST210.png)"
      ]
    }
  ]
}